{
  "nbformat": 4,
  "nbformat_minor": 0,
  "metadata": {
    "colab": {
      "name": "Lista Exercícios 3.ipynb",
      "provenance": [],
      "collapsed_sections": []
    },
    "kernelspec": {
      "name": "python3",
      "display_name": "Python 3"
    }
  },
  "cells": [
    {
      "cell_type": "markdown",
      "metadata": {
        "id": "66dFKIChpi3u"
      },
      "source": [
        "# Lista de Exercícios 3"
      ]
    },
    {
      "cell_type": "code",
      "metadata": {
        "id": "Ell4HMcDbh0C"
      },
      "source": [
        "import pandas as pd"
      ],
      "execution_count": 17,
      "outputs": []
    },
    {
      "cell_type": "markdown",
      "metadata": {
        "id": "DYZTAHhho2lj"
      },
      "source": [
        "## Exercício 1"
      ]
    },
    {
      "cell_type": "code",
      "metadata": {
        "id": "kzQUUsCOh9Kh",
        "outputId": "e9ff0408-fcd9-4feb-aab5-b93f48e34cf6",
        "colab": {
          "base_uri": "https://localhost:8080/",
          "height": 142
        }
      },
      "source": [
        "dt = pd.DataFrame()\n",
        "dt['X'] = [0, 1, 2]\n",
        "prob_cara = 0.4\n",
        "prob_coroa = 0.6\n",
        "dt['Frequencia_Relativa'] = [prob_coroa * prob_coroa, prob_cara * prob_coroa + prob_coroa * prob_cara, prob_cara * prob_cara]\n",
        "dt['Frequencia_Acumulada'] = [dt.Frequencia_Relativa[dt.X <= i].sum() for i in range(3)]\n",
        "dt"
      ],
      "execution_count": 18,
      "outputs": [
        {
          "output_type": "execute_result",
          "data": {
            "text/html": [
              "<div>\n",
              "<style scoped>\n",
              "    .dataframe tbody tr th:only-of-type {\n",
              "        vertical-align: middle;\n",
              "    }\n",
              "\n",
              "    .dataframe tbody tr th {\n",
              "        vertical-align: top;\n",
              "    }\n",
              "\n",
              "    .dataframe thead th {\n",
              "        text-align: right;\n",
              "    }\n",
              "</style>\n",
              "<table border=\"1\" class=\"dataframe\">\n",
              "  <thead>\n",
              "    <tr style=\"text-align: right;\">\n",
              "      <th></th>\n",
              "      <th>X</th>\n",
              "      <th>Frequencia_Relativa</th>\n",
              "      <th>Frequencia_Acumulada</th>\n",
              "    </tr>\n",
              "  </thead>\n",
              "  <tbody>\n",
              "    <tr>\n",
              "      <th>0</th>\n",
              "      <td>0</td>\n",
              "      <td>0.36</td>\n",
              "      <td>0.36</td>\n",
              "    </tr>\n",
              "    <tr>\n",
              "      <th>1</th>\n",
              "      <td>1</td>\n",
              "      <td>0.48</td>\n",
              "      <td>0.84</td>\n",
              "    </tr>\n",
              "    <tr>\n",
              "      <th>2</th>\n",
              "      <td>2</td>\n",
              "      <td>0.16</td>\n",
              "      <td>1.00</td>\n",
              "    </tr>\n",
              "  </tbody>\n",
              "</table>\n",
              "</div>"
            ],
            "text/plain": [
              "   X  Frequencia_Relativa  Frequencia_Acumulada\n",
              "0  0                 0.36                  0.36\n",
              "1  1                 0.48                  0.84\n",
              "2  2                 0.16                  1.00"
            ]
          },
          "metadata": {
            "tags": []
          },
          "execution_count": 18
        }
      ]
    },
    {
      "cell_type": "code",
      "metadata": {
        "id": "gXY7GEXBjSBt",
        "outputId": "4bbda20d-1dc0-4902-bcc9-fc4e8ab3ad47",
        "colab": {
          "base_uri": "https://localhost:8080/",
          "height": 312
        }
      },
      "source": [
        "plot = dt.plot(x = 'X', y = 'Frequencia_Acumulada', kind = 'scatter')\n",
        "plot.set_title(\"Função de Distribuição\")"
      ],
      "execution_count": 19,
      "outputs": [
        {
          "output_type": "execute_result",
          "data": {
            "text/plain": [
              "Text(0.5, 1.0, 'Função de Distribuição')"
            ]
          },
          "metadata": {
            "tags": []
          },
          "execution_count": 19
        },
        {
          "output_type": "display_data",
          "data": {
            "image/png": "[encoded data removed]",
            "text/plain": [
              "<Figure size 432x288 with 1 Axes>"
            ]
          },
          "metadata": {
            "tags": [],
            "needs_background": "light"
          }
        }
      ]
    },
    {
      "cell_type": "markdown",
      "metadata": {
        "id": "K9ECgeLw7Ze0"
      },
      "source": [
        "## Exercício 2"
      ]
    },
    {
      "cell_type": "code",
      "metadata": {
        "id": "ZicrjLYJ7ggl",
        "outputId": "5c7778cd-5573-4853-bbb2-2767c21baefc",
        "colab": {
          "base_uri": "https://localhost:8080/",
          "height": 142
        }
      },
      "source": [
        "dt = pd.DataFrame()\n",
        "dt[\"Enganos\"] = [1, 2, 3]\n",
        "dt[\"Probabilidade\"] = [0.1, 0.2, 0.3]\n",
        "dt[\"~Probabilidade\"] = [0.9, 0.8, 0.7]\n",
        "dt[\"Atraso (min)\"] = [10, 20, 30]\n",
        "dt"
      ],
      "execution_count": 20,
      "outputs": [
        {
          "output_type": "execute_result",
          "data": {
            "text/html": [
              "<div>\n",
              "<style scoped>\n",
              "    .dataframe tbody tr th:only-of-type {\n",
              "        vertical-align: middle;\n",
              "    }\n",
              "\n",
              "    .dataframe tbody tr th {\n",
              "        vertical-align: top;\n",
              "    }\n",
              "\n",
              "    .dataframe thead th {\n",
              "        text-align: right;\n",
              "    }\n",
              "</style>\n",
              "<table border=\"1\" class=\"dataframe\">\n",
              "  <thead>\n",
              "    <tr style=\"text-align: right;\">\n",
              "      <th></th>\n",
              "      <th>Enganos</th>\n",
              "      <th>Probabilidade</th>\n",
              "      <th>~Probabilidade</th>\n",
              "      <th>Atraso (min)</th>\n",
              "    </tr>\n",
              "  </thead>\n",
              "  <tbody>\n",
              "    <tr>\n",
              "      <th>0</th>\n",
              "      <td>1</td>\n",
              "      <td>0.1</td>\n",
              "      <td>0.9</td>\n",
              "      <td>10</td>\n",
              "    </tr>\n",
              "    <tr>\n",
              "      <th>1</th>\n",
              "      <td>2</td>\n",
              "      <td>0.2</td>\n",
              "      <td>0.8</td>\n",
              "      <td>20</td>\n",
              "    </tr>\n",
              "    <tr>\n",
              "      <th>2</th>\n",
              "      <td>3</td>\n",
              "      <td>0.3</td>\n",
              "      <td>0.7</td>\n",
              "      <td>30</td>\n",
              "    </tr>\n",
              "  </tbody>\n",
              "</table>\n",
              "</div>"
            ],
            "text/plain": [
              "   Enganos  Probabilidade  ~Probabilidade  Atraso (min)\n",
              "0        1            0.1             0.9            10\n",
              "1        2            0.2             0.8            20\n",
              "2        3            0.3             0.7            30"
            ]
          },
          "metadata": {
            "tags": []
          },
          "execution_count": 20
        }
      ]
    },
    {
      "cell_type": "code",
      "metadata": {
        "id": "y8BCF8JV8Xt0",
        "outputId": "fa2ec2cd-3070-4b39-faf6-e6d9ccac71a9",
        "colab": {
          "base_uri": "https://localhost:8080/",
          "height": 328
        }
      },
      "source": [
        "dt_prob = pd.DataFrame()\n",
        "dt_prob[\"Combinacoes\"] = [\"NNN\", \"ENN\", \"NEN\", \"NNE\", \"EEN\", \"NEE\", \"ENE\", \"EEE\"]\n",
        "dt_prob[\"Probabilidade\"] = [0.9 * 0.8 * 0.7,\n",
        "                            0.1 * 0.8 * 0.7,\n",
        "                            0.9 * 0.2 * 0.7,\n",
        "                            0.9 * 0.8 * 0.3,\n",
        "                            0.1 * 0.2 * 0.7,\n",
        "                            0.9 * 0.2 * 0.3,\n",
        "                            0.1 * 0.8 * 0.3,\n",
        "                            0.1 * 0.2 * 0.3]\n",
        "dt_prob.loc[8] = [\"TOTAL\", dt_prob.Probabilidade.sum()]\n",
        "dt_prob"
      ],
      "execution_count": 21,
      "outputs": [
        {
          "output_type": "execute_result",
          "data": {
            "text/html": [
              "<div>\n",
              "<style scoped>\n",
              "    .dataframe tbody tr th:only-of-type {\n",
              "        vertical-align: middle;\n",
              "    }\n",
              "\n",
              "    .dataframe tbody tr th {\n",
              "        vertical-align: top;\n",
              "    }\n",
              "\n",
              "    .dataframe thead th {\n",
              "        text-align: right;\n",
              "    }\n",
              "</style>\n",
              "<table border=\"1\" class=\"dataframe\">\n",
              "  <thead>\n",
              "    <tr style=\"text-align: right;\">\n",
              "      <th></th>\n",
              "      <th>Combinacoes</th>\n",
              "      <th>Probabilidade</th>\n",
              "    </tr>\n",
              "  </thead>\n",
              "  <tbody>\n",
              "    <tr>\n",
              "      <th>0</th>\n",
              "      <td>NNN</td>\n",
              "      <td>0.504</td>\n",
              "    </tr>\n",
              "    <tr>\n",
              "      <th>1</th>\n",
              "      <td>ENN</td>\n",
              "      <td>0.056</td>\n",
              "    </tr>\n",
              "    <tr>\n",
              "      <th>2</th>\n",
              "      <td>NEN</td>\n",
              "      <td>0.126</td>\n",
              "    </tr>\n",
              "    <tr>\n",
              "      <th>3</th>\n",
              "      <td>NNE</td>\n",
              "      <td>0.216</td>\n",
              "    </tr>\n",
              "    <tr>\n",
              "      <th>4</th>\n",
              "      <td>EEN</td>\n",
              "      <td>0.014</td>\n",
              "    </tr>\n",
              "    <tr>\n",
              "      <th>5</th>\n",
              "      <td>NEE</td>\n",
              "      <td>0.054</td>\n",
              "    </tr>\n",
              "    <tr>\n",
              "      <th>6</th>\n",
              "      <td>ENE</td>\n",
              "      <td>0.024</td>\n",
              "    </tr>\n",
              "    <tr>\n",
              "      <th>7</th>\n",
              "      <td>EEE</td>\n",
              "      <td>0.006</td>\n",
              "    </tr>\n",
              "    <tr>\n",
              "      <th>8</th>\n",
              "      <td>TOTAL</td>\n",
              "      <td>1.000</td>\n",
              "    </tr>\n",
              "  </tbody>\n",
              "</table>\n",
              "</div>"
            ],
            "text/plain": [
              "  Combinacoes  Probabilidade\n",
              "0         NNN          0.504\n",
              "1         ENN          0.056\n",
              "2         NEN          0.126\n",
              "3         NNE          0.216\n",
              "4         EEN          0.014\n",
              "5         NEE          0.054\n",
              "6         ENE          0.024\n",
              "7         EEE          0.006\n",
              "8       TOTAL          1.000"
            ]
          },
          "metadata": {
            "tags": []
          },
          "execution_count": 21
        }
      ]
    },
    {
      "cell_type": "code",
      "metadata": {
        "id": "nQ2nKDcu-388",
        "outputId": "26ce4a2b-df5b-4fbe-86b1-b862f061e715",
        "colab": {
          "base_uri": "https://localhost:8080/",
          "height": 34
        }
      },
      "source": [
        "print(\"Probabilidade sem atraso: \" + str(dt_prob[dt_prob.Combinacoes == \"NNN\"].Probabilidade[0]))"
      ],
      "execution_count": 22,
      "outputs": [
        {
          "output_type": "stream",
          "text": [
            "Probabilidade sem atraso: 0.504\n"
          ],
          "name": "stdout"
        }
      ]
    },
    {
      "cell_type": "code",
      "metadata": {
        "id": "va_9PUrB_eM9",
        "outputId": "1c5f4ab0-a026-4591-9074-ae2bff075714",
        "colab": {
          "base_uri": "https://localhost:8080/",
          "height": 34
        }
      },
      "source": [
        "print(\"Probabilidade com atraso: \" + str(1 - dt_prob[dt_prob.Combinacoes == \"NNN\"].Probabilidade[0]))"
      ],
      "execution_count": 23,
      "outputs": [
        {
          "output_type": "stream",
          "text": [
            "Probabilidade com atraso: 0.496\n"
          ],
          "name": "stdout"
        }
      ]
    },
    {
      "cell_type": "code",
      "metadata": {
        "id": "0i4pwCop_xb1",
        "outputId": "a552caf5-b8d8-4155-cbc7-a50d4c68aafa",
        "colab": {
          "base_uri": "https://localhost:8080/",
          "height": 34
        }
      },
      "source": [
        "selecao = dt_prob.Combinacoes.isin([\"ENN\", \"NEN\", \"NNE\", \"EEN\"])\n",
        "print(\"Probabilidade de atraso abaixo de 40 minutos: \" + str(dt_prob[selecao].Probabilidade.sum()))"
      ],
      "execution_count": 24,
      "outputs": [
        {
          "output_type": "stream",
          "text": [
            "Probabilidade de atraso abaixo de 40 minutos: 0.41200000000000003\n"
          ],
          "name": "stdout"
        }
      ]
    },
    {
      "cell_type": "code",
      "metadata": {
        "id": "1Zrr6Id5C3NM",
        "outputId": "25c14731-0535-42d9-e16c-64505dd44638",
        "colab": {
          "base_uri": "https://localhost:8080/",
          "height": 34
        }
      },
      "source": [
        "selecao = dt_prob.Combinacoes.isin([\"ENE\", \"NEE\", \"EEE\"])\n",
        "print(\"Probabilidade de atraso de 40 minutos ou acima: \" + str(dt_prob[selecao].Probabilidade.sum()))"
      ],
      "execution_count": 25,
      "outputs": [
        {
          "output_type": "stream",
          "text": [
            "Probabilidade de atraso de 40 minutos ou acima: 0.08400000000000002\n"
          ],
          "name": "stdout"
        }
      ]
    },
    {
      "cell_type": "markdown",
      "metadata": {
        "id": "dWPvx3f8DvIQ"
      },
      "source": [
        "## Questão 3"
      ]
    },
    {
      "cell_type": "code",
      "metadata": {
        "id": "tM12_cDgj2jr",
        "outputId": "8a1eaafe-d9eb-4f78-af69-4a6a91c50e6c",
        "colab": {
          "base_uri": "https://localhost:8080/",
          "height": 142
        }
      },
      "source": [
        "dt_pipoca = pd.DataFrame()\n",
        "dt_pipoca[\"Pipoca\"] = [\"SS\", \"SN\", \"N\"]\n",
        "dt_pipoca[\"Probabilidade\"] = [0.7*0.5, 0.7*0.5, 0.3]\n",
        "dt_pipoca[\"Custo\"] = [2, 0, 0]\n",
        "dt_pipoca"
      ],
      "execution_count": 26,
      "outputs": [
        {
          "output_type": "execute_result",
          "data": {
            "text/html": [
              "<div>\n",
              "<style scoped>\n",
              "    .dataframe tbody tr th:only-of-type {\n",
              "        vertical-align: middle;\n",
              "    }\n",
              "\n",
              "    .dataframe tbody tr th {\n",
              "        vertical-align: top;\n",
              "    }\n",
              "\n",
              "    .dataframe thead th {\n",
              "        text-align: right;\n",
              "    }\n",
              "</style>\n",
              "<table border=\"1\" class=\"dataframe\">\n",
              "  <thead>\n",
              "    <tr style=\"text-align: right;\">\n",
              "      <th></th>\n",
              "      <th>Pipoca</th>\n",
              "      <th>Probabilidade</th>\n",
              "      <th>Custo</th>\n",
              "    </tr>\n",
              "  </thead>\n",
              "  <tbody>\n",
              "    <tr>\n",
              "      <th>0</th>\n",
              "      <td>SS</td>\n",
              "      <td>0.35</td>\n",
              "      <td>2</td>\n",
              "    </tr>\n",
              "    <tr>\n",
              "      <th>1</th>\n",
              "      <td>SN</td>\n",
              "      <td>0.35</td>\n",
              "      <td>0</td>\n",
              "    </tr>\n",
              "    <tr>\n",
              "      <th>2</th>\n",
              "      <td>N</td>\n",
              "      <td>0.30</td>\n",
              "      <td>0</td>\n",
              "    </tr>\n",
              "  </tbody>\n",
              "</table>\n",
              "</div>"
            ],
            "text/plain": [
              "  Pipoca  Probabilidade  Custo\n",
              "0     SS           0.35      2\n",
              "1     SN           0.35      0\n",
              "2      N           0.30      0"
            ]
          },
          "metadata": {
            "tags": []
          },
          "execution_count": 26
        }
      ]
    },
    {
      "cell_type": "code",
      "metadata": {
        "id": "H1A6xduIbXx4",
        "outputId": "631c9d72-6d55-4c73-c691-45bbf8f7ab7c",
        "colab": {
          "base_uri": "https://localhost:8080/",
          "height": 142
        }
      },
      "source": [
        "dt_bala = pd.DataFrame()\n",
        "dt_bala[\"Bala\"] = [\"SS\", \"SN\", \"N\"]\n",
        "dt_bala[\"Probabilidade\"] = [0.9*0.5, 0.7*0.5, 0.1]\n",
        "dt_bala[\"Custo\"] = [3, 0, 0]\n",
        "dt_bala"
      ],
      "execution_count": 38,
      "outputs": [
        {
          "output_type": "execute_result",
          "data": {
            "text/html": [
              "<div>\n",
              "<style scoped>\n",
              "    .dataframe tbody tr th:only-of-type {\n",
              "        vertical-align: middle;\n",
              "    }\n",
              "\n",
              "    .dataframe tbody tr th {\n",
              "        vertical-align: top;\n",
              "    }\n",
              "\n",
              "    .dataframe thead th {\n",
              "        text-align: right;\n",
              "    }\n",
              "</style>\n",
              "<table border=\"1\" class=\"dataframe\">\n",
              "  <thead>\n",
              "    <tr style=\"text-align: right;\">\n",
              "      <th></th>\n",
              "      <th>Bala</th>\n",
              "      <th>Probabilidade</th>\n",
              "      <th>Custo</th>\n",
              "    </tr>\n",
              "  </thead>\n",
              "  <tbody>\n",
              "    <tr>\n",
              "      <th>0</th>\n",
              "      <td>SS</td>\n",
              "      <td>0.45</td>\n",
              "      <td>3</td>\n",
              "    </tr>\n",
              "    <tr>\n",
              "      <th>1</th>\n",
              "      <td>SN</td>\n",
              "      <td>0.35</td>\n",
              "      <td>0</td>\n",
              "    </tr>\n",
              "    <tr>\n",
              "      <th>2</th>\n",
              "      <td>N</td>\n",
              "      <td>0.10</td>\n",
              "      <td>0</td>\n",
              "    </tr>\n",
              "  </tbody>\n",
              "</table>\n",
              "</div>"
            ],
            "text/plain": [
              "  Bala  Probabilidade  Custo\n",
              "0   SS           0.45      3\n",
              "1   SN           0.35      0\n",
              "2    N           0.10      0"
            ]
          },
          "metadata": {
            "tags": []
          },
          "execution_count": 38
        }
      ]
    },
    {
      "cell_type": "code",
      "metadata": {
        "id": "csW8QNxub7Cl",
        "outputId": "c3e0b526-0a1b-4aae-d8fe-e5368c3b1b64",
        "colab": {
          "base_uri": "https://localhost:8080/",
          "height": 34
        }
      },
      "source": [
        "selecao = dt_pipoca[\"Pipoca\"].isin([\"SN\", \"N\"])\n",
        "print(\"Quando o gasto extra com pipoca é zero?\", dt_pipoca[selecao].Probabilidade.sum())"
      ],
      "execution_count": 35,
      "outputs": [
        {
          "output_type": "stream",
          "text": [
            "Quando o gasto com pipoca é zero? 0.6499999999999999\n"
          ],
          "name": "stdout"
        }
      ]
    },
    {
      "cell_type": "code",
      "metadata": {
        "id": "cDfiWSgScmCf",
        "outputId": "84a7692c-ae6f-4135-8b59-0fd75d6d447d",
        "colab": {
          "base_uri": "https://localhost:8080/",
          "height": 34
        }
      },
      "source": [
        "selecao = dt_bala[\"Bala\"].isin([\"SN\", \"N\"])\n",
        "print(\"Quando o gasto extra com bala é zero?\", dt_bala[selecao].Probabilidade.sum())"
      ],
      "execution_count": 39,
      "outputs": [
        {
          "output_type": "stream",
          "text": [
            "Quando o gasto extra com bala é zero? 0.44999999999999996\n"
          ],
          "name": "stdout"
        }
      ]
    },
    {
      "cell_type": "code",
      "metadata": {
        "id": "FvzauJYSeALW",
        "outputId": "227a3218-8e38-4521-ff2f-eceac442ea70",
        "colab": {
          "base_uri": "https://localhost:8080/",
          "height": 173
        }
      },
      "source": [
        "dt_custo = pd.DataFrame()\n",
        "dt_custo[\"Gastos\"] = [\"Pipoca e Bala\", \"Só pipoca\", \"Só bala\", \"Nenhum\"]\n",
        "dt_custo[\"Probabilidade\"] = [0.35*0.45, 0.35 * (0.35+0.10), (0.35+0.30)*0.45, (0.35+0.30)*(0.35+0.10)]\n",
        "dt_custo[\"Custo Total\"] = [15+2+3, 15+2, 15+3, 15]\n",
        "dt_custo[\"Custo Adicional\"] = [2+3, 2, 3, 0]\n",
        "dt_custo"
      ],
      "execution_count": 44,
      "outputs": [
        {
          "output_type": "execute_result",
          "data": {
            "text/html": [
              "<div>\n",
              "<style scoped>\n",
              "    .dataframe tbody tr th:only-of-type {\n",
              "        vertical-align: middle;\n",
              "    }\n",
              "\n",
              "    .dataframe tbody tr th {\n",
              "        vertical-align: top;\n",
              "    }\n",
              "\n",
              "    .dataframe thead th {\n",
              "        text-align: right;\n",
              "    }\n",
              "</style>\n",
              "<table border=\"1\" class=\"dataframe\">\n",
              "  <thead>\n",
              "    <tr style=\"text-align: right;\">\n",
              "      <th></th>\n",
              "      <th>Gastos</th>\n",
              "      <th>Probabilidade</th>\n",
              "      <th>Custo Total</th>\n",
              "      <th>Custo Adicional</th>\n",
              "    </tr>\n",
              "  </thead>\n",
              "  <tbody>\n",
              "    <tr>\n",
              "      <th>0</th>\n",
              "      <td>Pipoca e Bala</td>\n",
              "      <td>0.1575</td>\n",
              "      <td>20</td>\n",
              "      <td>5</td>\n",
              "    </tr>\n",
              "    <tr>\n",
              "      <th>1</th>\n",
              "      <td>Só pipoca</td>\n",
              "      <td>0.1575</td>\n",
              "      <td>17</td>\n",
              "      <td>2</td>\n",
              "    </tr>\n",
              "    <tr>\n",
              "      <th>2</th>\n",
              "      <td>Só bala</td>\n",
              "      <td>0.2925</td>\n",
              "      <td>18</td>\n",
              "      <td>3</td>\n",
              "    </tr>\n",
              "    <tr>\n",
              "      <th>3</th>\n",
              "      <td>Nenhum</td>\n",
              "      <td>0.2925</td>\n",
              "      <td>15</td>\n",
              "      <td>0</td>\n",
              "    </tr>\n",
              "  </tbody>\n",
              "</table>\n",
              "</div>"
            ],
            "text/plain": [
              "          Gastos  Probabilidade  Custo Total  Custo Adicional\n",
              "0  Pipoca e Bala         0.1575           20                5\n",
              "1      Só pipoca         0.1575           17                2\n",
              "2        Só bala         0.2925           18                3\n",
              "3         Nenhum         0.2925           15                0"
            ]
          },
          "metadata": {
            "tags": []
          },
          "execution_count": 44
        }
      ]
    },
    {
      "cell_type": "markdown",
      "metadata": {
        "id": "ZIfMLfCyhNQQ"
      },
      "source": [
        "## Questão 4"
      ]
    },
    {
      "cell_type": "code",
      "metadata": {
        "id": "ca5P1RQBhPyQ",
        "outputId": "6ef068e7-6f90-441a-905f-9e96199dd705",
        "colab": {
          "base_uri": "https://localhost:8080/",
          "height": 204
        }
      },
      "source": [
        "dt_distr = pd.DataFrame()\n",
        "dt_distr[\"X\"] = [\"x < 10\", \"10 <= x < 12\", \"12 <= x < 13\", \"13 <= x < 25\", \"x >= 25\"]\n",
        "dt_distr[\"Y\"] = [0, 0.2, 0.5, 0.9, 1]\n",
        "dt_distr"
      ],
      "execution_count": 77,
      "outputs": [
        {
          "output_type": "execute_result",
          "data": {
            "text/html": [
              "<div>\n",
              "<style scoped>\n",
              "    .dataframe tbody tr th:only-of-type {\n",
              "        vertical-align: middle;\n",
              "    }\n",
              "\n",
              "    .dataframe tbody tr th {\n",
              "        vertical-align: top;\n",
              "    }\n",
              "\n",
              "    .dataframe thead th {\n",
              "        text-align: right;\n",
              "    }\n",
              "</style>\n",
              "<table border=\"1\" class=\"dataframe\">\n",
              "  <thead>\n",
              "    <tr style=\"text-align: right;\">\n",
              "      <th></th>\n",
              "      <th>X</th>\n",
              "      <th>Y</th>\n",
              "    </tr>\n",
              "  </thead>\n",
              "  <tbody>\n",
              "    <tr>\n",
              "      <th>0</th>\n",
              "      <td>x &lt; 10</td>\n",
              "      <td>0.0</td>\n",
              "    </tr>\n",
              "    <tr>\n",
              "      <th>1</th>\n",
              "      <td>10 &lt;= x &lt; 12</td>\n",
              "      <td>0.2</td>\n",
              "    </tr>\n",
              "    <tr>\n",
              "      <th>2</th>\n",
              "      <td>12 &lt;= x &lt; 13</td>\n",
              "      <td>0.5</td>\n",
              "    </tr>\n",
              "    <tr>\n",
              "      <th>3</th>\n",
              "      <td>13 &lt;= x &lt; 25</td>\n",
              "      <td>0.9</td>\n",
              "    </tr>\n",
              "    <tr>\n",
              "      <th>4</th>\n",
              "      <td>x &gt;= 25</td>\n",
              "      <td>1.0</td>\n",
              "    </tr>\n",
              "  </tbody>\n",
              "</table>\n",
              "</div>"
            ],
            "text/plain": [
              "              X    Y\n",
              "0        x < 10  0.0\n",
              "1  10 <= x < 12  0.2\n",
              "2  12 <= x < 13  0.5\n",
              "3  13 <= x < 25  0.9\n",
              "4       x >= 25  1.0"
            ]
          },
          "metadata": {
            "tags": []
          },
          "execution_count": 77
        }
      ]
    },
    {
      "cell_type": "code",
      "metadata": {
        "id": "4aD8-lx7ifeS",
        "outputId": "e1ca4916-0366-4521-b69d-4f7bdcbce6c9",
        "colab": {
          "base_uri": "https://localhost:8080/",
          "height": 204
        }
      },
      "source": [
        "dt_prob = pd.DataFrame()\n",
        "dt_prob[\"X\"] = [\"x < 10\", \"10 <= x < 12\",\"12 <= x < 13\", \"13 <= x < 25\", \"x >= 25\"]\n",
        "dt_prob[\"Y\"] = [dt_distr[dt_distr.index == i].Y.values[0] - dt_distr[dt_distr.index < i].Y.sum() for i in range(5)]\n",
        "dt_prob"
      ],
      "execution_count": 115,
      "outputs": [
        {
          "output_type": "execute_result",
          "data": {
            "text/html": [
              "<div>\n",
              "<style scoped>\n",
              "    .dataframe tbody tr th:only-of-type {\n",
              "        vertical-align: middle;\n",
              "    }\n",
              "\n",
              "    .dataframe tbody tr th {\n",
              "        vertical-align: top;\n",
              "    }\n",
              "\n",
              "    .dataframe thead th {\n",
              "        text-align: right;\n",
              "    }\n",
              "</style>\n",
              "<table border=\"1\" class=\"dataframe\">\n",
              "  <thead>\n",
              "    <tr style=\"text-align: right;\">\n",
              "      <th></th>\n",
              "      <th>X</th>\n",
              "      <th>Y</th>\n",
              "    </tr>\n",
              "  </thead>\n",
              "  <tbody>\n",
              "    <tr>\n",
              "      <th>0</th>\n",
              "      <td>x &lt; 10</td>\n",
              "      <td>0.0</td>\n",
              "    </tr>\n",
              "    <tr>\n",
              "      <th>1</th>\n",
              "      <td>10 &lt;= x &lt; 12</td>\n",
              "      <td>0.2</td>\n",
              "    </tr>\n",
              "    <tr>\n",
              "      <th>2</th>\n",
              "      <td>12 &lt;= x &lt; 13</td>\n",
              "      <td>0.3</td>\n",
              "    </tr>\n",
              "    <tr>\n",
              "      <th>3</th>\n",
              "      <td>13 &lt;= x &lt; 25</td>\n",
              "      <td>0.2</td>\n",
              "    </tr>\n",
              "    <tr>\n",
              "      <th>4</th>\n",
              "      <td>x &gt;= 25</td>\n",
              "      <td>-0.6</td>\n",
              "    </tr>\n",
              "  </tbody>\n",
              "</table>\n",
              "</div>"
            ],
            "text/plain": [
              "              X    Y\n",
              "0        x < 10  0.0\n",
              "1  10 <= x < 12  0.2\n",
              "2  12 <= x < 13  0.3\n",
              "3  13 <= x < 25  0.2\n",
              "4       x >= 25 -0.6"
            ]
          },
          "metadata": {
            "tags": []
          },
          "execution_count": 115
        }
      ]
    },
    {
      "cell_type": "code",
      "metadata": {
        "id": "qu7i3KjhjD8J",
        "outputId": "05061ad7-4d7e-4d4c-bcfc-0dd96bd844ea",
        "colab": {
          "base_uri": "https://localhost:8080/",
          "height": 34
        }
      },
      "source": [
        "# P(X <= 12)\n",
        "print(\"P(X <= 12) = \" + str(dt_distr.iloc[2][\"Y\"]))"
      ],
      "execution_count": 128,
      "outputs": [
        {
          "output_type": "stream",
          "text": [
            "P(X <= 12) = 0.5\n"
          ],
          "name": "stdout"
        }
      ]
    },
    {
      "cell_type": "code",
      "metadata": {
        "id": "0LsC1bvlqR59",
        "outputId": "77d52d11-f352-493a-eb02-f6a6c6db2e2e",
        "colab": {
          "base_uri": "https://localhost:8080/",
          "height": 34
        }
      },
      "source": [
        "# P(X < 12)\n",
        "print(\"P(X < 12) = \" + str(dt_distr.iloc[1][\"Y\"]))"
      ],
      "execution_count": 131,
      "outputs": [
        {
          "output_type": "stream",
          "text": [
            "P(X < 12) = 0.2\n"
          ],
          "name": "stdout"
        }
      ]
    },
    {
      "cell_type": "code",
      "metadata": {
        "id": "srpAeMn-qrOj",
        "outputId": "51653529-7d07-441e-a7d3-9a75b7553567",
        "colab": {
          "base_uri": "https://localhost:8080/",
          "height": 34
        }
      },
      "source": [
        "# P(12 <= X <= 20)\n",
        "print(\"P(12 <= X <= 20) = \" + str(dt_prob.iloc[2].Y + dt_prob.iloc[3].Y))"
      ],
      "execution_count": 134,
      "outputs": [
        {
          "output_type": "stream",
          "text": [
            "P(12 <= X <= 20) = 0.5\n"
          ],
          "name": "stdout"
        }
      ]
    },
    {
      "cell_type": "code",
      "metadata": {
        "id": "qH1aWQr2rfzG",
        "outputId": "9d06bd1e-fb1b-4591-a442-9677ccefef2c",
        "colab": {
          "base_uri": "https://localhost:8080/",
          "height": 34
        }
      },
      "source": [
        "# P(X > 18)\n",
        "print(\"P(X > 18) = \" + str(dt_prob.iloc[3].Y))"
      ],
      "execution_count": 135,
      "outputs": [
        {
          "output_type": "stream",
          "text": [
            "P(X > 18) = 0.20000000000000007\n"
          ],
          "name": "stdout"
        }
      ]
    }
  ]
}